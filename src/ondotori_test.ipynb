{
 "cells": [
  {
   "cell_type": "code",
   "execution_count": 87,
   "metadata": {},
   "outputs": [],
   "source": [
    "import os\n",
    "import pandas as pd\n",
    "import polars as pl\n",
    "import time\n",
    "\n",
    "\n",
    "script_dir = os.getcwd()\n",
    "root_dir = os.path.dirname(script_dir)\n",
    "data_dir = os.path.join(root_dir, \"data\")"
   ]
  },
  {
   "cell_type": "code",
   "execution_count": 88,
   "metadata": {},
   "outputs": [
    {
     "data": {
      "text/html": [
       "<div>\n",
       "<style scoped>\n",
       "    .dataframe tbody tr th:only-of-type {\n",
       "        vertical-align: middle;\n",
       "    }\n",
       "\n",
       "    .dataframe tbody tr th {\n",
       "        vertical-align: top;\n",
       "    }\n",
       "\n",
       "    .dataframe thead th {\n",
       "        text-align: right;\n",
       "    }\n",
       "</style>\n",
       "<table border=\"1\" class=\"dataframe\">\n",
       "  <thead>\n",
       "    <tr style=\"text-align: right;\">\n",
       "      <th></th>\n",
       "      <th>Date/Time</th>\n",
       "      <th>Date/Time.1</th>\n",
       "      <th>No.1</th>\n",
       "    </tr>\n",
       "  </thead>\n",
       "  <tbody>\n",
       "    <tr>\n",
       "      <th>0</th>\n",
       "      <td>Date/Time</td>\n",
       "      <td>Date/Time</td>\n",
       "      <td>OFFICE 1</td>\n",
       "    </tr>\n",
       "    <tr>\n",
       "      <th>1</th>\n",
       "      <td>NaN</td>\n",
       "      <td>NaN</td>\n",
       "      <td>°C</td>\n",
       "    </tr>\n",
       "    <tr>\n",
       "      <th>2</th>\n",
       "      <td>2021/8/15 15:00</td>\n",
       "      <td>44423.625</td>\n",
       "      <td>20.5</td>\n",
       "    </tr>\n",
       "    <tr>\n",
       "      <th>3</th>\n",
       "      <td>2021/8/15 16:00</td>\n",
       "      <td>44423.66667</td>\n",
       "      <td>21.3</td>\n",
       "    </tr>\n",
       "    <tr>\n",
       "      <th>4</th>\n",
       "      <td>2021/8/15 17:00</td>\n",
       "      <td>44423.70833</td>\n",
       "      <td>19.8</td>\n",
       "    </tr>\n",
       "    <tr>\n",
       "      <th>...</th>\n",
       "      <td>...</td>\n",
       "      <td>...</td>\n",
       "      <td>...</td>\n",
       "    </tr>\n",
       "    <tr>\n",
       "      <th>27401</th>\n",
       "      <td>NaN</td>\n",
       "      <td>NaN</td>\n",
       "      <td>NaN</td>\n",
       "    </tr>\n",
       "    <tr>\n",
       "      <th>27402</th>\n",
       "      <td>NaN</td>\n",
       "      <td>NaN</td>\n",
       "      <td>NaN</td>\n",
       "    </tr>\n",
       "    <tr>\n",
       "      <th>27403</th>\n",
       "      <td>NaN</td>\n",
       "      <td>NaN</td>\n",
       "      <td>NaN</td>\n",
       "    </tr>\n",
       "    <tr>\n",
       "      <th>27404</th>\n",
       "      <td>NaN</td>\n",
       "      <td>NaN</td>\n",
       "      <td>NaN</td>\n",
       "    </tr>\n",
       "    <tr>\n",
       "      <th>27405</th>\n",
       "      <td>NaN</td>\n",
       "      <td>NaN</td>\n",
       "      <td>NaN</td>\n",
       "    </tr>\n",
       "  </tbody>\n",
       "</table>\n",
       "<p>27406 rows × 3 columns</p>\n",
       "</div>"
      ],
      "text/plain": [
       "             Date/Time  Date/Time.1      No.1\n",
       "0            Date/Time    Date/Time  OFFICE 1\n",
       "1                  NaN          NaN        °C\n",
       "2      2021/8/15 15:00    44423.625      20.5\n",
       "3      2021/8/15 16:00  44423.66667      21.3\n",
       "4      2021/8/15 17:00  44423.70833      19.8\n",
       "...                ...          ...       ...\n",
       "27401              NaN          NaN       NaN\n",
       "27402              NaN          NaN       NaN\n",
       "27403              NaN          NaN       NaN\n",
       "27404              NaN          NaN       NaN\n",
       "27405              NaN          NaN       NaN\n",
       "\n",
       "[27406 rows x 3 columns]"
      ]
     },
     "execution_count": 88,
     "metadata": {},
     "output_type": "execute_result"
    }
   ],
   "source": [
    "# データの読み込み\n",
    "ondotori_hkb = f\"{data_dir}\\\\AirTemp_odt_hkb_2cm.csv\"\n",
    "\n",
    "\n",
    "# dictに\n",
    "files = {\n",
    "    \"Site_A\": ondotori_hkb,\n",
    "}\n",
    "\n",
    "# pandas\n",
    "df_pd = pd.read_csv(ondotori_hkb, encoding=\"shift-jis\")\n",
    "\n",
    "df_pd"
   ]
  },
  {
   "cell_type": "code",
   "execution_count": 89,
   "metadata": {},
   "outputs": [
    {
     "name": "stdout",
     "output_type": "stream",
     "text": [
      "['TIMESTAMP', 'Temp']\n",
      "{'TIMESTAMP': 'TS', 'Temp': 'DegC'}\n"
     ]
    },
    {
     "data": {
      "text/html": [
       "<div><style>\n",
       ".dataframe > thead > tr,\n",
       ".dataframe > tbody > tr {\n",
       "  text-align: right;\n",
       "  white-space: pre-wrap;\n",
       "}\n",
       "</style>\n",
       "<small>shape: (25_509, 2)</small><table border=\"1\" class=\"dataframe\"><thead><tr><th>TIMESTAMP</th><th>Temp</th></tr><tr><td>str</td><td>str</td></tr></thead><tbody><tr><td>&quot;2021/8/15 15:00&quot;</td><td>&quot;20.5&quot;</td></tr><tr><td>&quot;2021/8/15 16:00&quot;</td><td>&quot;21.3&quot;</td></tr><tr><td>&quot;2021/8/15 17:00&quot;</td><td>&quot;19.8&quot;</td></tr><tr><td>&quot;2021/8/15 18:00&quot;</td><td>&quot;21.4&quot;</td></tr><tr><td>&quot;2021/8/15 19:00&quot;</td><td>&quot;11.2&quot;</td></tr><tr><td>&hellip;</td><td>&hellip;</td></tr><tr><td>&quot;2024/7/13 7:00&quot;</td><td>&quot;10.2&quot;</td></tr><tr><td>&quot;2024/7/13 8:00&quot;</td><td>&quot;12.1&quot;</td></tr><tr><td>&quot;2024/7/13 9:00&quot;</td><td>&quot;16.3&quot;</td></tr><tr><td>&quot;2024/7/13 10:00&quot;</td><td>&quot;17.1&quot;</td></tr><tr><td>&quot;2024/7/13 11:00&quot;</td><td>&quot;15.3&quot;</td></tr></tbody></table></div>"
      ],
      "text/plain": [
       "shape: (25_509, 2)\n",
       "┌─────────────────┬──────┐\n",
       "│ TIMESTAMP       ┆ Temp │\n",
       "│ ---             ┆ ---  │\n",
       "│ str             ┆ str  │\n",
       "╞═════════════════╪══════╡\n",
       "│ 2021/8/15 15:00 ┆ 20.5 │\n",
       "│ 2021/8/15 16:00 ┆ 21.3 │\n",
       "│ 2021/8/15 17:00 ┆ 19.8 │\n",
       "│ 2021/8/15 18:00 ┆ 21.4 │\n",
       "│ 2021/8/15 19:00 ┆ 11.2 │\n",
       "│ …               ┆ …    │\n",
       "│ 2024/7/13 7:00  ┆ 10.2 │\n",
       "│ 2024/7/13 8:00  ┆ 12.1 │\n",
       "│ 2024/7/13 9:00  ┆ 16.3 │\n",
       "│ 2024/7/13 10:00 ┆ 17.1 │\n",
       "│ 2024/7/13 11:00 ┆ 15.3 │\n",
       "└─────────────────┴──────┘"
      ]
     },
     "execution_count": 89,
     "metadata": {},
     "output_type": "execute_result"
    }
   ],
   "source": [
    "# polars\n",
    "df = pl.read_csv(ondotori_hkb, encoding=\"utf8-lossy\", columns=[\"Date/Time\", \"No.1\"])\n",
    "\n",
    "\n",
    "# カラム名の変更と余計な行の削除\n",
    "df = df.rename({\n",
    "    \"Date/Time\": 'TIMESTAMP',\n",
    "    \"No.1\": \"Temp\",\n",
    "}).slice(2).filter(~pl.col(\"TIMESTAMP\").is_null())\n",
    "\n",
    "# 単位系\n",
    "unit_dict = {\n",
    "    \"TIMESTAMP\": \"TS\",\n",
    "    \"Temp\": \"DegC\",\n",
    "}\n",
    "\n",
    "\n",
    "print(df.columns)\n",
    "print(unit_dict)\n",
    "df"
   ]
  },
  {
   "cell_type": "code",
   "execution_count": 90,
   "metadata": {},
   "outputs": [
    {
     "data": {
      "text/html": [
       "<div><style>\n",
       ".dataframe > thead > tr,\n",
       ".dataframe > tbody > tr {\n",
       "  text-align: right;\n",
       "  white-space: pre-wrap;\n",
       "}\n",
       "</style>\n",
       "<small>shape: (27_406, 3)</small><table border=\"1\" class=\"dataframe\"><thead><tr><th>Date/Time</th><th>Date/Time_duplicated_0</th><th>No.1</th></tr><tr><td>str</td><td>str</td><td>str</td></tr></thead><tbody><tr><td>&quot;Date/Time&quot;</td><td>&quot;Date/Time&quot;</td><td>&quot;OFFICE 1&quot;</td></tr><tr><td>null</td><td>null</td><td>&quot;��C&quot;</td></tr><tr><td>&quot;2021/8/15 15:00&quot;</td><td>&quot;44423.625&quot;</td><td>&quot;20.5&quot;</td></tr><tr><td>&quot;2021/8/15 16:00&quot;</td><td>&quot;44423.66667&quot;</td><td>&quot;21.3&quot;</td></tr><tr><td>&quot;2021/8/15 17:00&quot;</td><td>&quot;44423.70833&quot;</td><td>&quot;19.8&quot;</td></tr><tr><td>&hellip;</td><td>&hellip;</td><td>&hellip;</td></tr><tr><td>null</td><td>null</td><td>null</td></tr><tr><td>null</td><td>null</td><td>null</td></tr><tr><td>null</td><td>null</td><td>null</td></tr><tr><td>null</td><td>null</td><td>null</td></tr><tr><td>null</td><td>null</td><td>null</td></tr></tbody></table></div>"
      ],
      "text/plain": [
       "shape: (27_406, 3)\n",
       "┌─────────────────┬────────────────────────┬──────────┐\n",
       "│ Date/Time       ┆ Date/Time_duplicated_0 ┆ No.1     │\n",
       "│ ---             ┆ ---                    ┆ ---      │\n",
       "│ str             ┆ str                    ┆ str      │\n",
       "╞═════════════════╪════════════════════════╪══════════╡\n",
       "│ Date/Time       ┆ Date/Time              ┆ OFFICE 1 │\n",
       "│ null            ┆ null                   ┆ ��C      │\n",
       "│ 2021/8/15 15:00 ┆ 44423.625              ┆ 20.5     │\n",
       "│ 2021/8/15 16:00 ┆ 44423.66667            ┆ 21.3     │\n",
       "│ 2021/8/15 17:00 ┆ 44423.70833            ┆ 19.8     │\n",
       "│ …               ┆ …                      ┆ …        │\n",
       "│ null            ┆ null                   ┆ null     │\n",
       "│ null            ┆ null                   ┆ null     │\n",
       "│ null            ┆ null                   ┆ null     │\n",
       "│ null            ┆ null                   ┆ null     │\n",
       "│ null            ┆ null                   ┆ null     │\n",
       "└─────────────────┴────────────────────────┴──────────┘"
      ]
     },
     "execution_count": 90,
     "metadata": {},
     "output_type": "execute_result"
    }
   ],
   "source": [
    "df_lazy = (\n",
    "    pl.scan_csv(ondotori_hkb, encoding=\"utf8-lossy\")\n",
    ")\n",
    "\n",
    "df = df_lazy.collect()\n",
    "df"
   ]
  },
  {
   "cell_type": "code",
   "execution_count": 91,
   "metadata": {},
   "outputs": [
    {
     "ename": "DuplicateError",
     "evalue": "column with name 'record' has more than one occurrence",
     "output_type": "error",
     "traceback": [
      "\u001b[1;31m---------------------------------------------------------------------------\u001b[0m",
      "\u001b[1;31mDuplicateError\u001b[0m                            Traceback (most recent call last)",
      "Cell \u001b[1;32mIn[91], line 24\u001b[0m\n\u001b[0;32m     15\u001b[0m \u001b[38;5;66;03m# ファイルごとに初期処理\u001b[39;00m\n\u001b[0;32m     16\u001b[0m \u001b[38;5;28;01mfor\u001b[39;00m site_name, file \u001b[38;5;129;01min\u001b[39;00m files\u001b[38;5;241m.\u001b[39mitems():\n\u001b[0;32m     17\u001b[0m     df \u001b[38;5;241m=\u001b[39m (\n\u001b[0;32m     18\u001b[0m         \u001b[43mpl\u001b[49m\u001b[38;5;241;43m.\u001b[39;49m\u001b[43mscan_csv\u001b[49m\u001b[43m(\u001b[49m\u001b[43mfile\u001b[49m\u001b[43m,\u001b[49m\u001b[43m \u001b[49m\u001b[43mencoding\u001b[49m\u001b[38;5;241;43m=\u001b[39;49m\u001b[38;5;124;43m\"\u001b[39;49m\u001b[38;5;124;43mutf8-lossy\u001b[39;49m\u001b[38;5;124;43m\"\u001b[39;49m\u001b[43m)\u001b[49m\n\u001b[0;32m     19\u001b[0m \u001b[43m        \u001b[49m\u001b[38;5;241;43m.\u001b[39;49m\u001b[43mrename\u001b[49m\u001b[43m(\u001b[49m\u001b[43m{\u001b[49m\u001b[38;5;124;43m\"\u001b[39;49m\u001b[38;5;124;43mDate/Time\u001b[39;49m\u001b[38;5;124;43m\"\u001b[39;49m\u001b[43m:\u001b[49m\u001b[43m \u001b[49m\u001b[38;5;124;43m'\u001b[39;49m\u001b[38;5;124;43mtimestamp\u001b[39;49m\u001b[38;5;124;43m'\u001b[39;49m\u001b[43m,\u001b[49m\u001b[43m \u001b[49m\u001b[38;5;124;43m\"\u001b[39;49m\u001b[38;5;124;43mDate/Time_duplicated_0\u001b[39;49m\u001b[38;5;124;43m\"\u001b[39;49m\u001b[43m:\u001b[49m\u001b[43m \u001b[49m\u001b[38;5;124;43m\"\u001b[39;49m\u001b[38;5;124;43mrecord\u001b[39;49m\u001b[38;5;124;43m\"\u001b[39;49m\u001b[43m,\u001b[49m\u001b[43m \u001b[49m\u001b[38;5;124;43m\"\u001b[39;49m\u001b[38;5;124;43mNo.1\u001b[39;49m\u001b[38;5;124;43m\"\u001b[39;49m\u001b[43m:\u001b[49m\u001b[43m \u001b[49m\u001b[38;5;124;43m\"\u001b[39;49m\u001b[38;5;124;43mTemp\u001b[39;49m\u001b[38;5;124;43m\"\u001b[39;49m\u001b[43m,\u001b[49m\u001b[43m}\u001b[49m\u001b[43m)\u001b[49m\n\u001b[0;32m     20\u001b[0m \u001b[43m        \u001b[49m\u001b[38;5;241;43m.\u001b[39;49m\u001b[43mslice\u001b[49m\u001b[43m(\u001b[49m\u001b[38;5;241;43m2\u001b[39;49m\u001b[43m)\u001b[49m\n\u001b[0;32m     21\u001b[0m \u001b[43m        \u001b[49m\u001b[38;5;241;43m.\u001b[39;49m\u001b[43mfilter\u001b[49m\u001b[43m(\u001b[49m\u001b[38;5;241;43m~\u001b[39;49m\u001b[43mpl\u001b[49m\u001b[38;5;241;43m.\u001b[39;49m\u001b[43mcol\u001b[49m\u001b[43m(\u001b[49m\u001b[38;5;124;43m\"\u001b[39;49m\u001b[38;5;124;43mtimestamp\u001b[39;49m\u001b[38;5;124;43m\"\u001b[39;49m\u001b[43m)\u001b[49m\u001b[38;5;241;43m.\u001b[39;49m\u001b[43mis_null\u001b[49m\u001b[43m(\u001b[49m\u001b[43m)\u001b[49m\u001b[43m)\u001b[49m\n\u001b[0;32m     22\u001b[0m \u001b[43m        \u001b[49m\u001b[38;5;241;43m.\u001b[39;49m\u001b[43mwith_columns\u001b[49m\u001b[43m(\u001b[49m\u001b[43mpl\u001b[49m\u001b[38;5;241;43m.\u001b[39;49m\u001b[43mlit\u001b[49m\u001b[43m(\u001b[49m\u001b[38;5;124;43mf\u001b[39;49m\u001b[38;5;124;43m\"\u001b[39;49m\u001b[38;5;132;43;01m{\u001b[39;49;00m\u001b[43msite_name\u001b[49m\u001b[38;5;132;43;01m}\u001b[39;49;00m\u001b[38;5;124;43m\"\u001b[39;49m\u001b[43m)\u001b[49m\u001b[38;5;241;43m.\u001b[39;49m\u001b[43malias\u001b[49m\u001b[43m(\u001b[49m\u001b[38;5;124;43m\"\u001b[39;49m\u001b[38;5;124;43mlocation\u001b[39;49m\u001b[38;5;124;43m\"\u001b[39;49m\u001b[43m)\u001b[49m\u001b[43m)\u001b[49m\n\u001b[0;32m     23\u001b[0m \u001b[43m        \u001b[49m\u001b[38;5;241;43m.\u001b[39;49m\u001b[43mwith_row_index\u001b[49m\u001b[43m(\u001b[49m\u001b[38;5;124;43m\"\u001b[39;49m\u001b[38;5;124;43mrecord\u001b[39;49m\u001b[38;5;124;43m\"\u001b[39;49m\u001b[43m,\u001b[49m\u001b[43m \u001b[49m\u001b[43moffset\u001b[49m\u001b[38;5;241;43m=\u001b[39;49m\u001b[38;5;241;43m0\u001b[39;49m\u001b[43m)\u001b[49m\n\u001b[1;32m---> 24\u001b[0m \u001b[43m        \u001b[49m\u001b[38;5;241;43m.\u001b[39;49m\u001b[43mcollect\u001b[49m\u001b[43m(\u001b[49m\u001b[43m)\u001b[49m\n\u001b[0;32m     25\u001b[0m     )\n\u001b[0;32m     27\u001b[0m     \u001b[38;5;66;03m# timstampをunixtimeに変換\u001b[39;00m\n\u001b[0;32m     28\u001b[0m     df \u001b[38;5;241m=\u001b[39m df\u001b[38;5;241m.\u001b[39mwith_columns(\n\u001b[0;32m     29\u001b[0m         pl\u001b[38;5;241m.\u001b[39mcol(\u001b[38;5;124m\"\u001b[39m\u001b[38;5;124mtimestamp\u001b[39m\u001b[38;5;124m\"\u001b[39m)\u001b[38;5;241m.\u001b[39mstr\u001b[38;5;241m.\u001b[39mto_datetime(\u001b[38;5;124m\"\u001b[39m\u001b[38;5;124m%\u001b[39m\u001b[38;5;124mY/\u001b[39m\u001b[38;5;124m%\u001b[39m\u001b[38;5;124mm/\u001b[39m\u001b[38;5;132;01m%d\u001b[39;00m\u001b[38;5;124m \u001b[39m\u001b[38;5;124m%\u001b[39m\u001b[38;5;124mH:\u001b[39m\u001b[38;5;124m%\u001b[39m\u001b[38;5;124mM\u001b[39m\u001b[38;5;124m\"\u001b[39m, strict\u001b[38;5;241m=\u001b[39m\u001b[38;5;28;01mFalse\u001b[39;00m)\u001b[38;5;241m.\u001b[39mdt\u001b[38;5;241m.\u001b[39mepoch()\n\u001b[0;32m     30\u001b[0m     )\n",
      "File \u001b[1;32mc:\\data_tests\\.venv\\lib\\site-packages\\polars\\lazyframe\\frame.py:2066\u001b[0m, in \u001b[0;36mLazyFrame.collect\u001b[1;34m(self, type_coercion, _type_check, predicate_pushdown, projection_pushdown, simplify_expression, slice_pushdown, comm_subplan_elim, comm_subexpr_elim, cluster_with_columns, collapse_joins, no_optimization, streaming, engine, background, _check_order, _eager, **_kwargs)\u001b[0m\n\u001b[0;32m   2064\u001b[0m \u001b[38;5;66;03m# Only for testing purposes\u001b[39;00m\n\u001b[0;32m   2065\u001b[0m callback \u001b[38;5;241m=\u001b[39m _kwargs\u001b[38;5;241m.\u001b[39mget(\u001b[38;5;124m\"\u001b[39m\u001b[38;5;124mpost_opt_callback\u001b[39m\u001b[38;5;124m\"\u001b[39m, callback)\n\u001b[1;32m-> 2066\u001b[0m \u001b[38;5;28;01mreturn\u001b[39;00m wrap_df(\u001b[43mldf\u001b[49m\u001b[38;5;241;43m.\u001b[39;49m\u001b[43mcollect\u001b[49m\u001b[43m(\u001b[49m\u001b[43mcallback\u001b[49m\u001b[43m)\u001b[49m)\n",
      "\u001b[1;31mDuplicateError\u001b[0m: column with name 'record' has more than one occurrence"
     ]
    }
   ],
   "source": [
    "# ファイルをまとめるdict\n",
    "files = {\n",
    "    \"Site_A\": ondotori_hkb,\n",
    "}\n",
    "\n",
    "# 単位系の取得\n",
    "unit_dict = {\n",
    "    \"timestamp\": \"TS\",\n",
    "    \"Temp\": \"DegC\",\n",
    "}\n",
    "\n",
    "# 出力するdfを格納するdict\n",
    "dfs = {}\n",
    "\n",
    "# ファイルごとに初期処理\n",
    "for site_name, file in files.items():\n",
    "    df = (\n",
    "        pl.scan_csv(file, encoding=\"utf8-lossy\")\n",
    "        .rename({\"Date/Time\": 'timestamp', \"Date/Time_duplicated_0\": \"record\", \"No.1\": \"Temp\",})\n",
    "        .slice(2)\n",
    "        .filter(~pl.col(\"timestamp\").is_null())\n",
    "        .with_columns(pl.lit(f\"{site_name}\").alias(\"location\"))\n",
    "        .with_row_index(\"record\", offset=0)\n",
    "        .collect()\n",
    "    )\n",
    "\n",
    "    # timstampをunixtimeに変換\n",
    "    df = df.with_columns(\n",
    "        pl.col(\"timestamp\").str.to_datetime(\"%Y/%m/%d %H:%M\", strict=False).dt.epoch()\n",
    "    )\n",
    "    # unixtimeに変換出来なかった行をログ出力\n",
    "    df_null_unixtime = df.filter(pl.col(\"timestamp\").is_null())\n",
    "    print(df_null_unixtime)\n",
    "\n",
    "    # dfsに格納\n",
    "    dfs[site_name] = df\n",
    "\n",
    "\n",
    "df"
   ]
  }
 ],
 "metadata": {
  "kernelspec": {
   "display_name": ".venv",
   "language": "python",
   "name": "python3"
  },
  "language_info": {
   "codemirror_mode": {
    "name": "ipython",
    "version": 3
   },
   "file_extension": ".py",
   "mimetype": "text/x-python",
   "name": "python",
   "nbconvert_exporter": "python",
   "pygments_lexer": "ipython3",
   "version": "3.10.0"
  }
 },
 "nbformat": 4,
 "nbformat_minor": 2
}
