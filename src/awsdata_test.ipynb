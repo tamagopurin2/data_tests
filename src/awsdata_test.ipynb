{
 "cells": [
  {
   "cell_type": "code",
   "execution_count": null,
   "metadata": {},
   "outputs": [],
   "source": [
    "import os\n",
    "import tkinter as tk\n",
    "from tkinter import filedialog\n",
    "import pandas as pd\n",
    "import polars as pl\n",
    "\n",
    "script_dir = os.getcwd()\n",
    "root_dir = os.path.dirname(script_dir)\n",
    "data_dir = os.path.join(root_dir, \"data\")\n",
    "print(data_dir)\n",
    "\n",
    "def load_csv(use_polars=False):\n",
    "    root = tk.Tk()\n",
    "    root.withdraw()\n",
    "    fpaths = filedialog.askopenfilenames(initialdir=data_dir, filetypes=[(\"CSV files\", \"*.csv\")])\n",
    "    if not fpaths:\n",
    "        return None\n",
    "\n",
    "    if use_polars:\n",
    "        dfs = {fpath: pl.read_csv(fpath, encoding=\"utf8\", ignore_errors=True) for fpath in fpaths}\n",
    "    else:\n",
    "        dfs = {fpath: pd.read_csv(fpath, encoding=\"shift-jis\", errors=\"ignore\") for fpath in fpaths}\n",
    "\n",
    "    print(f\"選択したファイル: {fpaths}\")\n",
    "    return dfs\n",
    "\n",
    "dfs = load_csv()"
   ]
  }
 ],
 "metadata": {
  "kernelspec": {
   "display_name": ".venv",
   "language": "python",
   "name": "python3"
  },
  "language_info": {
   "codemirror_mode": {
    "name": "ipython",
    "version": 3
   },
   "file_extension": ".py",
   "mimetype": "text/x-python",
   "name": "python",
   "nbconvert_exporter": "python",
   "pygments_lexer": "ipython3",
   "version": "3.10.0"
  }
 },
 "nbformat": 4,
 "nbformat_minor": 2
}
